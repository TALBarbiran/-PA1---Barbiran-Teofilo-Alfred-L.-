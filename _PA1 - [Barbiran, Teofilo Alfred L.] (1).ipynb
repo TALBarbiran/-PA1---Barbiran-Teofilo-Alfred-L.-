{
 "cells": [
  {
   "cell_type": "code",
   "execution_count": 11,
   "id": "10e0bbe4-376f-4174-8ec6-69e5ab7b7a50",
   "metadata": {},
   "outputs": [],
   "source": [
    "import numpy as np"
   ]
  },
  {
   "cell_type": "code",
   "execution_count": 32,
   "id": "e1e66f10-1bf1-4b8d-b02e-f8496f713d8e",
   "metadata": {},
   "outputs": [],
   "source": [
    "def my_function(abc):\n",
    "    alphabet = sorted(abc)\n",
    "    return ''.join(alphabet)"
   ]
  },
  {
   "cell_type": "code",
   "execution_count": 36,
   "id": "63311050-274b-4fac-81b1-dfa794059182",
   "metadata": {},
   "outputs": [
    {
     "data": {
      "text/plain": [
       "'aeelmpx'"
      ]
     },
     "execution_count": 36,
     "metadata": {},
     "output_type": "execute_result"
    }
   ],
   "source": [
    "my_function(\"example\")"
   ]
  },
  {
   "cell_type": "code",
   "execution_count": 50,
   "id": "d3b19b9c-a126-4e7b-abe5-de197e3ef35c",
   "metadata": {},
   "outputs": [],
   "source": [
    "def my_function1(emotify):\n",
    "    emotify = emotify.replace(\"smile\",\":)\")\n",
    "    emotify = emotify.replace(\"grin\",\":D\")\n",
    "    emotify = emotify.replace(\"sad\",\":(\")\n",
    "    emotify = emotify.replace(\"mad\",\">:(\")\n",
    "    return emotify"
   ]
  },
  {
   "cell_type": "code",
   "execution_count": 53,
   "id": "8d8392f8-dfcc-416c-a06c-d10f30560d12",
   "metadata": {},
   "outputs": [
    {
     "name": "stdout",
     "output_type": "stream",
     "text": [
      "i am >:(\n"
     ]
    }
   ],
   "source": [
    "print(my_function1('i am mad'))"
   ]
  },
  {
   "cell_type": "code",
   "execution_count": 2,
   "id": "b84d0fd4-3b9a-4c37-9933-c17ee22cb4ac",
   "metadata": {},
   "outputs": [],
   "source": [
    "writeyourcodehere = [1,2,3,4,5]\n",
    "a,*b,c = writeyourcodehere"
   ]
  },
  {
   "cell_type": "code",
   "execution_count": 65,
   "id": "632df250-aeac-45e2-93e2-84d10cee1416",
   "metadata": {},
   "outputs": [
    {
     "name": "stdout",
     "output_type": "stream",
     "text": [
      "first: 1\n",
      "middle [2, 3, 4]\n",
      "last 5\n"
     ]
    }
   ],
   "source": [
    "print(\"first:\",a)\n",
    "print(\"middle\",b)\n",
    "print(\"last\",c)"
   ]
  },
  {
   "cell_type": "code",
   "execution_count": null,
   "id": "7455837c-d4f1-497b-91fc-a5bbef908a25",
   "metadata": {},
   "outputs": [],
   "source": []
  }
 ],
 "metadata": {
  "kernelspec": {
   "display_name": "Python [conda env:base] *",
   "language": "python",
   "name": "conda-base-py"
  },
  "language_info": {
   "codemirror_mode": {
    "name": "ipython",
    "version": 3
   },
   "file_extension": ".py",
   "mimetype": "text/x-python",
   "name": "python",
   "nbconvert_exporter": "python",
   "pygments_lexer": "ipython3",
   "version": "3.13.5"
  }
 },
 "nbformat": 4,
 "nbformat_minor": 5
}
